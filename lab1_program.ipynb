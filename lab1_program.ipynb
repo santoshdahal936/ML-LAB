{
 "cells": [
  {
   "cell_type": "code",
   "execution_count": 2,
   "metadata": {},
   "outputs": [
    {
     "name": "stdout",
     "output_type": "stream",
     "text": [
      "Training Data\n",
      "['Sunny', 'Warm', 'Normal', 'Strong', 'Warm', 'Same', 'Yes']\n",
      "['Sunny', 'Warm', 'High', 'Strong', 'Warm', 'Same', 'Yes']\n",
      "['Rainy', 'Cold', 'High', 'Strong', 'Warm', 'Change', 'No']\n",
      "['Sunny', 'Warm', 'High', 'Strong', 'Cool', 'Change', 'Yes']\n",
      "h=  ['0', '0', '0', '0', '0', '0']\n",
      "The Hypothesis are \n",
      "h 0 = ['Sunny', 'Warm', 'Normal', 'Strong', 'Warm', 'Same']\n",
      "h 1 = ['Sunny', 'Warm', '?', 'Strong', 'Warm', 'Same']\n",
      "h 2 = ['Sunny', 'Warm', '?', 'Strong', 'Warm', 'Same']\n",
      "h 3 = ['Sunny', 'Warm', '?', 'Strong', '?', '?']\n",
      "Maximally Specific Hypothesis :\n",
      " h 3 = ['Sunny', 'Warm', '?', 'Strong', '?', '?']\n"
     ]
    }
   ],
   "source": [
    "import csv\n",
    "with open (\"C:/1DA19CS045/enjoysport.csv\", 'r') as f:\n",
    "    reader=csv.reader(f)\n",
    "    data=list(reader)\n",
    "print(\"Training Data\")\n",
    "for row in data:\n",
    "    print(row)\n",
    "attr_len=len(data[0])-1\n",
    "h=['0']*attr_len\n",
    "print(\"h= \",h)\n",
    "k=0\n",
    "print(\"The Hypothesis are \")\n",
    "for row in data:\n",
    "    if row[-1]=='Yes':\n",
    "        j=0\n",
    "        for col in row:\n",
    "            if col!='Yes':\n",
    "                if col!=h[j] and h[j]=='0':\n",
    "                    h[j]=col\n",
    "                elif col!=h[j] and h[j]!='0':\n",
    "                    h[j]='?'\n",
    "            j=j+1\n",
    "    print(\"h\",k,\"=\",h)\n",
    "    k=k+1\n",
    "print(\"Maximally Specific Hypothesis :\\n\",\"h\",k-1,\"=\",h)"
   ]
  },
  {
   "cell_type": "code",
   "execution_count": 9,
   "metadata": {},
   "outputs": [
    {
     "name": "stdout",
     "output_type": "stream",
     "text": [
      "Training Data\n",
      "['Sunny', 'Warm', 'Normal', 'Strong', 'Warm', 'Same', 'Yes']\n",
      "['Sunny', 'Warm', 'High', 'Strong', 'Warm', 'Same', 'Yes']\n",
      "['Rainy', 'Cold', 'High', 'Strong', 'Warm', 'Change', 'No']\n",
      "['Sunny', 'Warm', 'High', 'Strong', 'Cool', 'Change', 'Yes']\n",
      "_________________________\n",
      "The Hypothesis are\n",
      "\n",
      "S = ['0', '0', '0', '0', '0', '0']\n",
      "G = ['?', '?', '?', '?', '?', '?']\n",
      "__________________________\n",
      "S = ['Sunny', 'Warm', 'Normal', 'Strong', 'Warm', 'Same']\n",
      "G= ['?', '?', '?', '?', '?', '?']\n",
      "________________________\n",
      "S = ['Sunny', 'Warm', '?', 'Strong', 'Warm', 'Same']\n",
      "G= ['?', '?', '?', '?', '?', '?']\n",
      "________________________\n",
      "S = ['Sunny', 'Warm', '?', 'Strong', 'Warm', 'Same']\n",
      "G= [['Sunny', '?', '?', '?', '?', '?'], ['?', 'Warm', '?', '?', '?', '?'], ['?', '?', '?', '?', '?', 'Same']]\n",
      "________________________\n",
      "S = ['Sunny', 'Warm', '?', 'Strong', '?', '?']\n",
      "G= [['Sunny', '?', '?', '?', '?', '?'], ['?', 'Warm', '?', '?', '?', '?']]\n",
      "________________________\n"
     ]
    }
   ],
   "source": [
    "import csv\n",
    "with open (\"C:/1DA19CS045/enjoysport.csv\", 'r') as f:\n",
    "    reader=csv.reader(f)\n",
    "    data=list(reader)\n",
    "print(\"Training Data\")\n",
    "for row in data:\n",
    "    print(row)\n",
    "print(\"_________________________\")\n",
    "attr_len=len(data[0])-1\n",
    "S=['0']*attr_len\n",
    "G=['?']*attr_len\n",
    "temp=[]\n",
    "print(\"The Hypothesis are\\n\")\n",
    "print(\"S =\",S)\n",
    "print(\"G =\",G)\n",
    "print(\"__________________________\")\n",
    "for row in data:\n",
    "    if row[-1]==\"Yes\":\n",
    "        j=0\n",
    "        for col in row:\n",
    "            if col!=\"Yes\":\n",
    "                if col!=S[j] and S[j]=='0':\n",
    "                    S[j]=col\n",
    "                elif col!=S[j] and S[j]!='0':\n",
    "                    S[j]='?'\n",
    "            j=j+1\n",
    "        for j in range(0,attr_len):\n",
    "            for k in temp:\n",
    "                if k[j]!=S[j] and k[j]!='?':\n",
    "                    temp.remove(k)\n",
    "    if row[-1]==\"No\":\n",
    "        j=0\n",
    "        for col in row:\n",
    "            if col!=\"No\":\n",
    "                if col!=S[j] and S[j]!='?':\n",
    "                    if S[j]=='0':\n",
    "                        G[j]=col\n",
    "                    else:\n",
    "                        G[j]=S[j]\n",
    "                    temp.append(G)\n",
    "                    G=['?']*attr_len\n",
    "            j=j+1\n",
    "    print(\"S =\",S)\n",
    "    if len(temp)==0:\n",
    "        print(\"G=\",G)\n",
    "    else:\n",
    "        print(\"G=\",temp)\n",
    "    print(\"________________________\")\n",
    "            "
   ]
  },
  {
   "cell_type": "code",
   "execution_count": null,
   "metadata": {},
   "outputs": [],
   "source": []
  }
 ],
 "metadata": {
  "kernelspec": {
   "display_name": "Python 3 (ipykernel)",
   "language": "python",
   "name": "python3"
  },
  "language_info": {
   "codemirror_mode": {
    "name": "ipython",
    "version": 3
   },
   "file_extension": ".py",
   "mimetype": "text/x-python",
   "name": "python",
   "nbconvert_exporter": "python",
   "pygments_lexer": "ipython3",
   "version": "3.9.7"
  }
 },
 "nbformat": 4,
 "nbformat_minor": 2
}
