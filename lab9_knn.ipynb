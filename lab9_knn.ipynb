{
 "cells": [
  {
   "cell_type": "code",
   "execution_count": 5,
   "id": "5ae7e7e7",
   "metadata": {},
   "outputs": [
    {
     "name": "stdout",
     "output_type": "stream",
     "text": [
      "Prediction is virginica,Actual is virginica\n",
      "Prediction is virginica,Actual is virginica\n",
      "Prediction is virginica,Actual is versicolor\n",
      "Prediction is virginica,Actual is virginica\n",
      "Prediction is setosa,Actual is setosa\n",
      "Prediction is setosa,Actual is setosa\n",
      "Prediction is setosa,Actual is setosa\n",
      "Prediction is virginica,Actual is virginica\n",
      "Prediction is virginica,Actual is virginica\n",
      "Prediction is versicolor,Actual is versicolor\n",
      "Prediction is setosa,Actual is setosa\n",
      "Prediction is versicolor,Actual is versicolor\n",
      "Prediction is versicolor,Actual is virginica\n",
      "Prediction is virginica,Actual is virginica\n",
      "Prediction is virginica,Actual is versicolor\n",
      "Prediction is versicolor,Actual is versicolor\n",
      "Prediction is virginica,Actual is virginica\n",
      "Prediction is versicolor,Actual is versicolor\n",
      "Prediction is versicolor,Actual is versicolor\n",
      "Prediction is virginica,Actual is virginica\n",
      "Prediction is virginica,Actual is virginica\n",
      "Prediction is versicolor,Actual is versicolor\n",
      "Prediction is setosa,Actual is setosa\n",
      "Prediction is setosa,Actual is setosa\n",
      "Prediction is virginica,Actual is virginica\n",
      "Prediction is setosa,Actual is setosa\n",
      "Prediction is virginica,Actual is virginica\n",
      "Prediction is setosa,Actual is setosa\n",
      "Prediction is setosa,Actual is setosa\n",
      "Prediction is versicolor,Actual is versicolor\n",
      "Prediction is versicolor,Actual is versicolor\n",
      "Prediction is versicolor,Actual is versicolor\n",
      "Prediction is versicolor,Actual is versicolor\n",
      "Prediction is versicolor,Actual is versicolor\n",
      "Prediction is virginica,Actual is virginica\n",
      "Prediction is setosa,Actual is setosa\n",
      "Prediction is versicolor,Actual is versicolor\n",
      "Prediction is setosa,Actual is setosa\n",
      "Prediction is setosa,Actual is setosa\n",
      "Prediction is setosa,Actual is setosa\n",
      "Prediction is virginica,Actual is virginica\n",
      "Prediction is virginica,Actual is versicolor\n",
      "Prediction is setosa,Actual is setosa\n",
      "Prediction is versicolor,Actual is versicolor\n",
      "Prediction is setosa,Actual is setosa\n",
      "Confusion matrix is as follows\n",
      "[[15  0  0]\n",
      " [ 0 13  3]\n",
      " [ 0  1 13]]\n",
      "Accuracy matrics\n",
      "              precision    recall  f1-score   support\n",
      "\n",
      "           0       1.00      1.00      1.00        15\n",
      "           1       0.93      0.81      0.87        16\n",
      "           2       0.81      0.93      0.87        14\n",
      "\n",
      "    accuracy                           0.91        45\n",
      "   macro avg       0.91      0.91      0.91        45\n",
      "weighted avg       0.92      0.91      0.91        45\n",
      "\n"
     ]
    }
   ],
   "source": [
    "from sklearn import datasets\n",
    "iris=datasets.load_iris()\n",
    "iris_data=iris.data\n",
    "iris_labels=iris.target\n",
    "from sklearn.model_selection import train_test_split\n",
    "x_train,x_test,y_train,y_test=train_test_split(iris_data,iris_labels,test_size=0.30)\n",
    "from sklearn.neighbors import KNeighborsClassifier\n",
    "classifier=KNeighborsClassifier(n_neighbors=5)\n",
    "classifier.fit(x_train,y_train)\n",
    "y_pred=classifier.predict(x_test)\n",
    "target_names=iris.target_names\n",
    "for pred,actual in zip(y_pred,y_test):\n",
    "    print(\"Prediction is \"+str(target_names[pred])+\",Actual is \"+str(target_names[actual]))\n",
    "from sklearn.metrics import classification_report,confusion_matrix\n",
    "print(\"Confusion matrix is as follows\")\n",
    "print(confusion_matrix(y_test,y_pred))\n",
    "print(\"Accuracy matrics\")\n",
    "print(classification_report(y_test,y_pred))"
   ]
  }
 ],
 "metadata": {
  "kernelspec": {
   "display_name": "Python 3 (ipykernel)",
   "language": "python",
   "name": "python3"
  },
  "language_info": {
   "codemirror_mode": {
    "name": "ipython",
    "version": 3
   },
   "file_extension": ".py",
   "mimetype": "text/x-python",
   "name": "python",
   "nbconvert_exporter": "python",
   "pygments_lexer": "ipython3",
   "version": "3.9.7"
  }
 },
 "nbformat": 4,
 "nbformat_minor": 5
}
