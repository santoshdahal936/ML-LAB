{
 "cells": [
  {
   "cell_type": "code",
   "execution_count": 1,
   "metadata": {},
   "outputs": [],
   "source": [
    "import numpy as np\n",
    "import math \n",
    "import csv\n",
    "def read_data(filename):\n",
    "    with open(filename,\"r\") as csvfile:\n",
    "        datareader= csv.reader(csvfile)\n",
    "        traindata=list(datareader)\n",
    "    metadata=traindata[0]\n",
    "    traindata=traindata[1:]\n",
    "    return (metadata,traindata)"
   ]
  },
  {
   "cell_type": "code",
   "execution_count": 2,
   "metadata": {},
   "outputs": [],
   "source": [
    "def splitdataset(dataset,splitratio):\n",
    "    trainsize=int(len(dataset)*splitratio)\n",
    "    trainset=[]\n",
    "    testset=list(dataset)\n",
    "    test=list(dataset)\n",
    "    i=0\n",
    "    while len(trainset)<trainsize:\n",
    "        trainset.append(testset.pop(i))\n",
    "    return [trainset,testset]\n"
   ]
  },
  {
   "cell_type": "code",
   "execution_count": 3,
   "metadata": {},
   "outputs": [],
   "source": [
    "def classify(data,test):\n",
    "    totalsize=data.shape[0]\n",
    "    print(\"\\n\")\n",
    "    print(\"Training data size = \",totalsize)\n",
    "    print(\"Test data size = \",test.shape[0])\n",
    "    countyes=0\n",
    "    countno=0\n",
    "    probyes=0\n",
    "    probno=0\n",
    "    print(\"\\n\")\n",
    "    print(\"Target \\t count \\t probability\")\n",
    "    for x  in range(data.shape[0]):\n",
    "        if data[x,data.shape[1]-1]=='yes':\n",
    "            countyes+=1\n",
    "        if data[x,data.shape[1]-1]=='no':\n",
    "            countno+=1\n",
    "    probYes=countyes/totalsize\n",
    "    probNo=countno/totalsize\n",
    "    print(\"Yes \\t\",countyes,\"\\t\",probYes)\n",
    "    print(\"No \\t\",countno,\"\\t\",probNo)\n",
    "    prob0=np.zeros((test.shape[1]-1))\n",
    "    prob1=np.zeros((test.shape[1]-1))\n",
    "    accuracy=0\n",
    "    print(\"\\n\")\n",
    "    print(\"Instance \\t prediction \\t target\")\n",
    "    for t in range(test.shape[0]):\n",
    "        for k in range(test.shape[1]-1):\n",
    "            count1=count0=0\n",
    "            for j in range(data.shape[0]):\n",
    "                if test[t,k]==data[j,k] and data[j,data.shape[1]-1]=='no':\n",
    "                    count0+=1\n",
    "                if test[t,k]==data[j,k] and data[j,data.shape[1]-1]=='yes':\n",
    "                    count1+=1\n",
    "            prob0[k]=count0/countno\n",
    "            prob1[k]=count1/countyes\n",
    "        probno=probNo\n",
    "        probyes=probYes\n",
    "        for i in range(test.shape[1]-1):\n",
    "            probno=probno*prob0[i]\n",
    "            probyes=probyes*prob1[i]\n",
    "        if probno>probyes:\n",
    "            predict='no'\n",
    "        else:\n",
    "            predict='yes'\n",
    "        print(\" \",t+1,\"\\t\\t\",predict,\"\\t\\t\",test[t,test.shape[1]-1])\n",
    "        if predict==test[t,test.shape[1]-1]:\n",
    "            accuracy+=1\n",
    "    finalaccuracy=(accuracy/test.shape[0])*100\n",
    "    print(\"\\nAccuracy = \",finalaccuracy,\"%\")\n"
   ]
  },
  {
   "cell_type": "code",
   "execution_count": 4,
   "metadata": {},
   "outputs": [
    {
     "name": "stdout",
     "output_type": "stream",
     "text": [
      "\n",
      " The attribute name of training data are  :  ['Outlook', 'Temperature', 'Humidity', 'Wind', 'Answer']\n",
      "\n",
      "The Training data set are :\n",
      "['sunny' 'hot' 'high' 'weak' 'no']\n",
      "['sunny' 'hot' 'high' 'strong' 'no']\n",
      "['overcast' 'hot' 'high' 'weak' 'yes']\n",
      "['rain' 'mild' 'high' 'weak' 'yes']\n",
      "['rain' 'cool' 'normal' 'weak' 'yes']\n",
      "['rain' 'cool' 'normal' 'strong' 'no']\n",
      "['overcast' 'cool' 'normal' 'strong' 'yes']\n",
      "['sunny' 'mild' 'high' 'weak' 'no']\n",
      "['sunny' 'cool' 'normal' 'weak' 'yes']\n",
      "\n",
      "The test data set are:\n",
      "['rain' 'mild' 'normal' 'weak' 'yes']\n",
      "['sunny' 'mild' 'normal' 'strong' 'yes']\n",
      "['overcast' 'mild' 'high' 'strong' 'yes']\n",
      "['overcast' 'hot' 'normal' 'weak' 'yes']\n",
      "['rain' 'mild' 'high' 'strong' 'no']\n",
      "\n",
      "\n",
      "Training data size =  9\n",
      "Test data size =  5\n",
      "\n",
      "\n",
      "Target \t count \t probability\n",
      "Yes \t 5 \t 0.5555555555555556\n",
      "No \t 4 \t 0.4444444444444444\n",
      "\n",
      "\n",
      "Instance \t prediction \t target\n",
      "  1 \t\t yes \t\t yes\n",
      "  2 \t\t no \t\t yes\n",
      "  3 \t\t yes \t\t yes\n",
      "  4 \t\t yes \t\t yes\n",
      "  5 \t\t no \t\t no\n",
      "\n",
      "Accuracy =  80.0 %\n"
     ]
    }
   ],
   "source": [
    "metadata,traindata=read_data(\"id3.csv\")\n",
    "print(\"\\n The attribute name of training data are  : \",metadata)\n",
    "splitratio=0.7\n",
    "trainset,testset=splitdataset(traindata,splitratio)\n",
    "training=np.array(trainset)\n",
    "print(\"\\nThe Training data set are :\")\n",
    "for x in training :\n",
    "    print(x)\n",
    "testing =np.array(testset)\n",
    "print(\"\\nThe test data set are:\")\n",
    "for x in testing:\n",
    "    print(x)\n",
    "classify(training,testing)"
   ]
  },
  {
   "cell_type": "code",
   "execution_count": null,
   "metadata": {},
   "outputs": [],
   "source": []
  },
  {
   "cell_type": "code",
   "execution_count": null,
   "metadata": {},
   "outputs": [],
   "source": []
  }
 ],
 "metadata": {
  "kernelspec": {
   "display_name": "Python 3 (ipykernel)",
   "language": "python",
   "name": "python3"
  },
  "language_info": {
   "codemirror_mode": {
    "name": "ipython",
    "version": 3
   },
   "file_extension": ".py",
   "mimetype": "text/x-python",
   "name": "python",
   "nbconvert_exporter": "python",
   "pygments_lexer": "ipython3",
   "version": "3.9.7"
  }
 },
 "nbformat": 4,
 "nbformat_minor": 2
}
