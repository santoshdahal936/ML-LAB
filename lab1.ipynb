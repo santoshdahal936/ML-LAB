{
 "cells": [
  {
   "cell_type": "code",
   "execution_count": 2,
   "id": "166f1819",
   "metadata": {},
   "outputs": [
    {
     "name": "stdout",
     "output_type": "stream",
     "text": [
      "Training Data\n",
      "['Sunny', 'Warm', 'Normal', 'Strong', 'Warm', 'Same', 'Yes']\n",
      "['Sunny', 'Warm', 'High', 'Strong', 'Warm', 'Same', 'Yes']\n",
      "['Rainy', 'Cold', 'High', 'Strong', 'Warm', 'Change', 'No']\n",
      "['Sunny', 'Warm', 'High', 'Strong', 'Cool', 'Change', 'Yes']\n",
      "h=  ['0', '0', '0', '0', '0', '0']\n",
      "The Hypothesis are\n",
      "h 0 = ['Sunny', 'Warm', 'Normal', 'Strong', 'Warm', 'Same']\n",
      "h 1 = ['Sunny', 'Warm', '?', 'Strong', 'Warm', 'Same']\n",
      "h 2 = ['Sunny', 'Warm', '?', 'Strong', 'Warm', 'Same']\n",
      "h 3 = ['Sunny', 'Warm', '?', 'Strong', '?', '?']\n",
      "MAximally SPecific Hypothesis :\n",
      " h 3 = ['Sunny', 'Warm', '?', 'Strong', '?', '?']\n"
     ]
    }
   ],
   "source": [
    "import csv\n",
    "with open(\"C:/Users/dhira/ML lab/enjoysport1.csv\",\"r\") as f:\n",
    "    reader=csv.reader(f)\n",
    "    data=list(reader)\n",
    "print(\"Training Data\")\n",
    "for row in data:\n",
    "    print(row)\n",
    "attr_len=len(data[0])-1\n",
    "h=['0']*attr_len\n",
    "print(\"h= \",h)\n",
    "k=0\n",
    "print(\"The Hypothesis are\")\n",
    "for row in data:\n",
    "    if row[-1]=='Yes':\n",
    "        j=0\n",
    "        for col in row:\n",
    "            if col!='Yes':\n",
    "                if col !=h[j] and h[j]=='0':\n",
    "                    h[j]=col\n",
    "                elif col!=h[j] and h[j]!='0':\n",
    "                    h[j]='?'\n",
    "            j=j+1\n",
    "    print(\"h\",k,\"=\",h)\n",
    "    k=k+1\n",
    "print(\"MAximally SPecific Hypothesis :\\n\",\"h\",k-1,\"=\",h)"
   ]
  }
 ],
 "metadata": {
  "kernelspec": {
   "display_name": "Python 3 (ipykernel)",
   "language": "python",
   "name": "python3"
  },
  "language_info": {
   "codemirror_mode": {
    "name": "ipython",
    "version": 3
   },
   "file_extension": ".py",
   "mimetype": "text/x-python",
   "name": "python",
   "nbconvert_exporter": "python",
   "pygments_lexer": "ipython3",
   "version": "3.9.7"
  }
 },
 "nbformat": 4,
 "nbformat_minor": 5
}
